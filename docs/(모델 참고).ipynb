{
 "cells": [
  {
   "cell_type": "code",
   "execution_count": 1,
   "metadata": {},
   "outputs": [],
   "source": [
    "#1. 모듈 및 함수 불러오기\n",
    "from tkinter import *\n",
    "import pandas as pd\n",
    "from sklearn.model_selection import train_test_split\n",
    "from sklearn.compose import ColumnTransformer\n",
    "from sklearn.preprocessing import StandardScaler\n",
    "from sklearn.preprocessing import OneHotEncoder\n",
    "from imblearn.over_sampling import SMOTE\n",
    "\n",
    "#2. 데이터 불러오기 \n",
    "df = pd.read_csv('digital_final.csv', encoding = 'cp949')"
   ]
  },
  {
   "cell_type": "code",
   "execution_count": 10,
   "metadata": {},
   "outputs": [],
   "source": [
    "import numpy as np"
   ]
  },
  {
   "cell_type": "code",
   "execution_count": 2,
   "metadata": {},
   "outputs": [
    {
     "data": {
      "text/html": [
       "<div>\n",
       "<style scoped>\n",
       "    .dataframe tbody tr th:only-of-type {\n",
       "        vertical-align: middle;\n",
       "    }\n",
       "\n",
       "    .dataframe tbody tr th {\n",
       "        vertical-align: top;\n",
       "    }\n",
       "\n",
       "    .dataframe thead th {\n",
       "        text-align: right;\n",
       "    }\n",
       "</style>\n",
       "<table border=\"1\" class=\"dataframe\">\n",
       "  <thead>\n",
       "    <tr style=\"text-align: right;\">\n",
       "      <th></th>\n",
       "      <th>학적1</th>\n",
       "      <th>학적2</th>\n",
       "      <th>학적3</th>\n",
       "      <th>나이</th>\n",
       "      <th>성별</th>\n",
       "      <th>학과</th>\n",
       "      <th>휴학1학기</th>\n",
       "      <th>휴학2학기</th>\n",
       "      <th>휴학1년</th>\n",
       "      <th>장학1학기</th>\n",
       "      <th>...</th>\n",
       "      <th>총점평균1학기</th>\n",
       "      <th>성적등급1학기</th>\n",
       "      <th>총점평균2학기</th>\n",
       "      <th>성적등급2학기</th>\n",
       "      <th>리포트점수1학기</th>\n",
       "      <th>리포트기간내1학기</th>\n",
       "      <th>리포트기간외1학기</th>\n",
       "      <th>리포트점수2학기</th>\n",
       "      <th>리포트기간내2학기</th>\n",
       "      <th>리포트기간외2학기</th>\n",
       "    </tr>\n",
       "  </thead>\n",
       "  <tbody>\n",
       "    <tr>\n",
       "      <th>0</th>\n",
       "      <td>5</td>\n",
       "      <td>4</td>\n",
       "      <td>1</td>\n",
       "      <td>49</td>\n",
       "      <td>0</td>\n",
       "      <td>21</td>\n",
       "      <td>0</td>\n",
       "      <td>0</td>\n",
       "      <td>1</td>\n",
       "      <td>0</td>\n",
       "      <td>...</td>\n",
       "      <td>87</td>\n",
       "      <td>7</td>\n",
       "      <td>88</td>\n",
       "      <td>7</td>\n",
       "      <td>13.83</td>\n",
       "      <td>6</td>\n",
       "      <td>0</td>\n",
       "      <td>17.00</td>\n",
       "      <td>6</td>\n",
       "      <td>0</td>\n",
       "    </tr>\n",
       "    <tr>\n",
       "      <th>1</th>\n",
       "      <td>5</td>\n",
       "      <td>4</td>\n",
       "      <td>1</td>\n",
       "      <td>54</td>\n",
       "      <td>1</td>\n",
       "      <td>21</td>\n",
       "      <td>0</td>\n",
       "      <td>0</td>\n",
       "      <td>1</td>\n",
       "      <td>1</td>\n",
       "      <td>...</td>\n",
       "      <td>86</td>\n",
       "      <td>7</td>\n",
       "      <td>88</td>\n",
       "      <td>7</td>\n",
       "      <td>13.83</td>\n",
       "      <td>6</td>\n",
       "      <td>0</td>\n",
       "      <td>14.33</td>\n",
       "      <td>6</td>\n",
       "      <td>0</td>\n",
       "    </tr>\n",
       "    <tr>\n",
       "      <th>2</th>\n",
       "      <td>5</td>\n",
       "      <td>4</td>\n",
       "      <td>1</td>\n",
       "      <td>52</td>\n",
       "      <td>1</td>\n",
       "      <td>21</td>\n",
       "      <td>0</td>\n",
       "      <td>0</td>\n",
       "      <td>1</td>\n",
       "      <td>1</td>\n",
       "      <td>...</td>\n",
       "      <td>84</td>\n",
       "      <td>6</td>\n",
       "      <td>91</td>\n",
       "      <td>8</td>\n",
       "      <td>13.60</td>\n",
       "      <td>4</td>\n",
       "      <td>1</td>\n",
       "      <td>14.83</td>\n",
       "      <td>6</td>\n",
       "      <td>0</td>\n",
       "    </tr>\n",
       "    <tr>\n",
       "      <th>3</th>\n",
       "      <td>5</td>\n",
       "      <td>4</td>\n",
       "      <td>1</td>\n",
       "      <td>53</td>\n",
       "      <td>1</td>\n",
       "      <td>21</td>\n",
       "      <td>0</td>\n",
       "      <td>0</td>\n",
       "      <td>1</td>\n",
       "      <td>1</td>\n",
       "      <td>...</td>\n",
       "      <td>91</td>\n",
       "      <td>8</td>\n",
       "      <td>91</td>\n",
       "      <td>7</td>\n",
       "      <td>13.00</td>\n",
       "      <td>5</td>\n",
       "      <td>0</td>\n",
       "      <td>17.17</td>\n",
       "      <td>5</td>\n",
       "      <td>1</td>\n",
       "    </tr>\n",
       "    <tr>\n",
       "      <th>4</th>\n",
       "      <td>5</td>\n",
       "      <td>4</td>\n",
       "      <td>1</td>\n",
       "      <td>31</td>\n",
       "      <td>1</td>\n",
       "      <td>21</td>\n",
       "      <td>0</td>\n",
       "      <td>0</td>\n",
       "      <td>1</td>\n",
       "      <td>1</td>\n",
       "      <td>...</td>\n",
       "      <td>88</td>\n",
       "      <td>7</td>\n",
       "      <td>94</td>\n",
       "      <td>8</td>\n",
       "      <td>15.00</td>\n",
       "      <td>4</td>\n",
       "      <td>0</td>\n",
       "      <td>19.83</td>\n",
       "      <td>6</td>\n",
       "      <td>0</td>\n",
       "    </tr>\n",
       "  </tbody>\n",
       "</table>\n",
       "<p>5 rows × 46 columns</p>\n",
       "</div>"
      ],
      "text/plain": [
       "   학적1  학적2  학적3  나이  성별  학과  휴학1학기  휴학2학기  휴학1년  장학1학기  ...  총점평균1학기  \\\n",
       "0    5    4    1  49   0  21      0      0     1      0  ...       87   \n",
       "1    5    4    1  54   1  21      0      0     1      1  ...       86   \n",
       "2    5    4    1  52   1  21      0      0     1      1  ...       84   \n",
       "3    5    4    1  53   1  21      0      0     1      1  ...       91   \n",
       "4    5    4    1  31   1  21      0      0     1      1  ...       88   \n",
       "\n",
       "   성적등급1학기  총점평균2학기  성적등급2학기  리포트점수1학기  리포트기간내1학기  리포트기간외1학기  리포트점수2학기  \\\n",
       "0        7       88        7     13.83          6          0     17.00   \n",
       "1        7       88        7     13.83          6          0     14.33   \n",
       "2        6       91        8     13.60          4          1     14.83   \n",
       "3        8       91        7     13.00          5          0     17.17   \n",
       "4        7       94        8     15.00          4          0     19.83   \n",
       "\n",
       "   리포트기간내2학기  리포트기간외2학기  \n",
       "0          6          0  \n",
       "1          6          0  \n",
       "2          6          0  \n",
       "3          5          1  \n",
       "4          6          0  \n",
       "\n",
       "[5 rows x 46 columns]"
      ]
     },
     "execution_count": 2,
     "metadata": {},
     "output_type": "execute_result"
    }
   ],
   "source": [
    "df.head()"
   ]
  },
  {
   "cell_type": "code",
   "execution_count": 3,
   "metadata": {},
   "outputs": [],
   "source": [
    "from sklearn.ensemble import GradientBoostingClassifier\n",
    "from sklearn.tree import DecisionTreeClassifier\n",
    "from sklearn.metrics import confusion_matrix, classification_report # 정오분류표\n",
    "from sklearn.metrics import accuracy_score, precision_score, recall_score, f1_score, roc_auc_score # 정확도, 민감도 등\n",
    "from sklearn.metrics import roc_curve, auc # ROC 곡선 그리기\n",
    "\n",
    "## 7.최적화\n",
    "from sklearn.model_selection import cross_validate # 교차타당도\n",
    "from sklearn.pipeline import make_pipeline # 파이프라인 구축\n",
    "from sklearn.model_selection import learning_curve, validation_curve # 학습곡선, 검증곡선\n",
    "from sklearn.model_selection import GridSearchCV # 하이퍼파라미터 튜닝\n",
    "from sklearn.model_selection import cross_val_score # 교차타당도 # 추가"
   ]
  },
  {
   "cell_type": "code",
   "execution_count": 17,
   "metadata": {},
   "outputs": [],
   "source": [
    "from sklearn.model_selection import train_test_split\n",
    "from sklearn.tree import DecisionTreeClassifier"
   ]
  },
  {
   "cell_type": "code",
   "execution_count": 4,
   "metadata": {},
   "outputs": [],
   "source": [
    "X2 = df[['나이', '성별', '학과', '휴학1학기', '휴학2학기', '휴학1년','장학1학기', '장학2학기', '장학1년', '입학구분', '접속횟수3월', '접속횟수4월', '접속횟수5월',\n",
    "        '접속횟수6월', '접속횟수7월', '접속횟수8월','접속횟수9월', '접속횟수10월', '접속횟수11월', '접속횟수12월', '접속합계', '출석횟수1학기', '결석횟수1학기', '출석횟수2학기',\n",
    "        '지각횟수2학기', '출석횟수1년', '지각횟수1년', '토론참여1학기', '토론참여2학기', '토론참여1년', '상담1학기', '상담2학기', '상담1년', '총점평균1학기', '성적등급1학기', '총점평균2학기',\n",
    "        '성적등급2학기', '리포트점수1학기', '리포트기간내1학기', '리포트기간외1학기', '리포트점수2학기','리포트기간내2학기', '리포트기간외2학기']]\n",
    "Y2 = df['학적3']\n",
    "\n",
    "\n",
    "X2_train, X2_test, Y2_train, Y2_test = train_test_split(X2, Y2, test_size=0.3, random_state=0)\n",
    "\n",
    "ct2 = ColumnTransformer([(\"scaling\", StandardScaler(), ['나이', '접속횟수3월', '접속횟수4월', '접속횟수5월', '접속횟수6월', '접속횟수7월', '접속횟수8월','접속횟수9월', '접속횟수10월', '접속횟수11월',\n",
    "                                                        '접속횟수12월', '접속합계', '출석횟수1학기', '결석횟수1학기', '출석횟수2학기', '지각횟수2학기', '출석횟수1년', '지각횟수1년',\n",
    "                                                        '토론참여1학기', '토론참여2학기', '토론참여1년', '상담1학기', '상담2학기', '상담1년', '총점평균1학기', '총점평균2학기',\n",
    "                                                        '리포트점수1학기', '리포트기간내1학기', '리포트기간외1학기', '리포트점수2학기','리포트기간내2학기', '리포트기간외2학기']), (\"onehot\", OneHotEncoder(sparse = False, handle_unknown = 'ignore'),\n",
    "                                                        ['성별', '학과', '휴학1학기', '휴학2학기', '휴학1년','장학1학기', '장학2학기', '장학1년', '입학구분', '성적등급1학기', '성적등급2학기'])])\n",
    "\n",
    "ct2.fit(X2_train)\n",
    "X2_train=ct2.transform(X2_train)\n",
    "X2_test=ct2.transform(X2_test)\n",
    "\n",
    "smote2 = SMOTE(random_state=0)\n",
    "X2_train, Y2_train = smote2.fit_resample(X2_train, Y2_train)\n"
   ]
  },
  {
   "cell_type": "code",
   "execution_count": 29,
   "metadata": {},
   "outputs": [
    {
     "data": {
      "text/plain": [
       "0       1\n",
       "1       1\n",
       "2       1\n",
       "3       1\n",
       "4       1\n",
       "       ..\n",
       "5007    1\n",
       "5008    1\n",
       "5009    0\n",
       "5010    1\n",
       "5011    0\n",
       "Name: 학적3, Length: 5012, dtype: int64"
      ]
     },
     "execution_count": 29,
     "metadata": {},
     "output_type": "execute_result"
    }
   ],
   "source": [
    "# 중간 데이터 확인\n",
    "\n",
    "Y2"
   ]
  },
  {
   "cell_type": "markdown",
   "metadata": {},
   "source": [
    "- 모형 학습 및 예측"
   ]
  },
  {
   "cell_type": "code",
   "execution_count": 5,
   "metadata": {},
   "outputs": [
    {
     "name": "stdout",
     "output_type": "stream",
     "text": [
      "평가용 데이터 세트에 대한 예측값\n",
      " [1 1 1 ... 1 1 1]\n"
     ]
    }
   ],
   "source": [
    "#1. 모듈 및 함수 불러오기\n",
    "from sklearn import datasets\n",
    "import joblib\n",
    "\n",
    "#2. 모형 생성\n",
    "model2=GradientBoostingClassifier(random_state=0,  n_estimators=300, max_depth=11, learning_rate=0.1)\n",
    "\n",
    "#3. 모형 학습 및 예측\n",
    "model2.fit(X2_train, Y2_train)\n",
    "joblib.dump(model2, './gbd2_model.pkl')\n",
    "\n",
    "Y2_pred = model2.predict(X2_test)\n",
    "\n",
    "print('평가용 데이터 세트에 대한 예측값\\n', Y2_pred)\n"
   ]
  },
  {
   "cell_type": "code",
   "execution_count": 12,
   "metadata": {},
   "outputs": [],
   "source": [
    "# 결과값 별도 저장\n",
    "\n",
    "# Y2_pred.to_csv(\"test_Y2_pred.csv\", index=False)\n",
    "pd.DataFrame(Y2_pred).to_csv(\"test_Y2_pred.csv\")"
   ]
  },
  {
   "cell_type": "markdown",
   "metadata": {},
   "source": [
    "- 모형 평가"
   ]
  },
  {
   "cell_type": "code",
   "execution_count": 13,
   "metadata": {},
   "outputs": [
    {
     "name": "stdout",
     "output_type": "stream",
     "text": [
      "학습용 데이터 세트 정확도: 1.000\n",
      "평가용 데이터 세트 정확도: 0.846\n"
     ]
    }
   ],
   "source": [
    "print('학습용 데이터 세트 정확도: {:.3f}'.format(model2.score(X2_train, Y2_train)))\n",
    "print('평가용 데이터 세트 정확도: {:.3f}'.format(model2.score(X2_test, Y2_test)))\n"
   ]
  },
  {
   "cell_type": "code",
   "execution_count": 14,
   "metadata": {},
   "outputs": [
    {
     "name": "stdout",
     "output_type": "stream",
     "text": [
      "              precision    recall  f1-score   support\n",
      "\n",
      "           0       0.60      0.38      0.47       265\n",
      "           1       0.88      0.95      0.91      1239\n",
      "\n",
      "    accuracy                           0.85      1504\n",
      "   macro avg       0.74      0.67      0.69      1504\n",
      "weighted avg       0.83      0.85      0.83      1504\n",
      "\n"
     ]
    }
   ],
   "source": [
    "from sklearn.metrics import classification_report  \n",
    "print(classification_report(Y2_test, Y2_pred))"
   ]
  },
  {
   "cell_type": "code",
   "execution_count": 22,
   "metadata": {},
   "outputs": [],
   "source": [
    "from sklearn import datasets\n",
    "import joblib"
   ]
  },
  {
   "cell_type": "code",
   "execution_count": 30,
   "metadata": {
    "scrolled": true
   },
   "outputs": [
    {
     "data": {
      "text/plain": [
       "GradientBoostingClassifier(max_depth=11, n_estimators=300, random_state=0)"
      ]
     },
     "execution_count": 30,
     "metadata": {},
     "output_type": "execute_result"
    }
   ],
   "source": [
    "# loaded_model = joblib.load('./gbd_model.pkl')\n",
    "loaded_model = joblib.load('./gbd2_model.pkl')\n",
    "loaded_model"
   ]
  },
  {
   "cell_type": "code",
   "execution_count": 31,
   "metadata": {},
   "outputs": [
    {
     "data": {
      "text/html": [
       "<div>\n",
       "<style scoped>\n",
       "    .dataframe tbody tr th:only-of-type {\n",
       "        vertical-align: middle;\n",
       "    }\n",
       "\n",
       "    .dataframe tbody tr th {\n",
       "        vertical-align: top;\n",
       "    }\n",
       "\n",
       "    .dataframe thead th {\n",
       "        text-align: right;\n",
       "    }\n",
       "</style>\n",
       "<table border=\"1\" class=\"dataframe\">\n",
       "  <thead>\n",
       "    <tr style=\"text-align: right;\">\n",
       "      <th></th>\n",
       "      <th>Predict[0]</th>\n",
       "      <th>Predict[1]</th>\n",
       "    </tr>\n",
       "  </thead>\n",
       "  <tbody>\n",
       "    <tr>\n",
       "      <th>True[0]</th>\n",
       "      <td>102</td>\n",
       "      <td>163</td>\n",
       "    </tr>\n",
       "    <tr>\n",
       "      <th>True[1]</th>\n",
       "      <td>68</td>\n",
       "      <td>1171</td>\n",
       "    </tr>\n",
       "  </tbody>\n",
       "</table>\n",
       "</div>"
      ],
      "text/plain": [
       "         Predict[0]  Predict[1]\n",
       "True[0]         102         163\n",
       "True[1]          68        1171"
      ]
     },
     "execution_count": 31,
     "metadata": {},
     "output_type": "execute_result"
    }
   ],
   "source": [
    "confmatx = pd.DataFrame(confusion_matrix(Y2_test, Y2_pred),\n",
    "                      index=['True[0]','True[1]'],\n",
    "                      columns=['Predict[0]', 'Predict[1]'])\n",
    "\n",
    "confmatx"
   ]
  },
  {
   "cell_type": "code",
   "execution_count": 32,
   "metadata": {},
   "outputs": [
    {
     "name": "stdout",
     "output_type": "stream",
     "text": [
      "잘못 분류된 샘플 개수: 231\n",
      "정확도: 0.846\n",
      "정밀도: 0.878\n",
      "재현율: 0.945\n",
      "F1: 0.910\n"
     ]
    }
   ],
   "source": [
    "print('잘못 분류된 샘플 개수: %d' % (Y2_test != Y2_pred).sum())\n",
    "print('정확도: %.3f' % accuracy_score(Y2_test, Y2_pred))\n",
    "print('정밀도: %.3f' % precision_score(Y2_test, Y2_pred)) #종속 3개이상 안됨\n",
    "print('재현율: %.3f' % recall_score(Y2_test, Y2_pred)) # \"\"\n",
    "print('F1: %.3f' % f1_score(Y2_test, Y2_pred)) # \"\""
   ]
  }
 ],
 "metadata": {
  "kernelspec": {
   "display_name": "Python 3 (ipykernel)",
   "language": "python",
   "name": "python3"
  },
  "language_info": {
   "codemirror_mode": {
    "name": "ipython",
    "version": 3
   },
   "file_extension": ".py",
   "mimetype": "text/x-python",
   "name": "python",
   "nbconvert_exporter": "python",
   "pygments_lexer": "ipython3",
   "version": "3.9.12"
  },
  "vscode": {
   "interpreter": {
    "hash": "cf912df1eded973f7444dd68ddb7d456a19d9901c10e5090075537bcada4b3dd"
   }
  }
 },
 "nbformat": 4,
 "nbformat_minor": 2
}
